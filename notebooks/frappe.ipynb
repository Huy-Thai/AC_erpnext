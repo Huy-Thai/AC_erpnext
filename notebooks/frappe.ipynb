{
 "cells": [
  {
   "cell_type": "code",
   "execution_count": 1,
   "id": "afdb2893-a981-461d-b7fa-c5a62339b68f",
   "metadata": {},
   "outputs": [],
   "source": [
    "import os\n",
    "from frappeclient import FrappeClient\n",
    "# print(os.environ['ACERP_ADMINISTRATOR'])\n",
    "# print(os.environ['ACERP_ADMINISTRATOR_PASS'])"
   ]
  },
  {
   "cell_type": "code",
   "execution_count": 2,
   "id": "a43b817a-95eb-49b5-89d9-d5ea60c23e6c",
   "metadata": {},
   "outputs": [
    {
     "data": {
      "text/plain": [
       "{'message': 'Logged In', 'home_page': '/app', 'full_name': 'Administrator'}"
      ]
     },
     "execution_count": 2,
     "metadata": {},
     "output_type": "execute_result"
    }
   ],
   "source": [
    "conn = FrappeClient(\"https://acerp.pandion.vn\")\n",
    "conn.login(os.environ['ACERP_ADMINISTRATOR'], os.environ['ACERP_ADMINISTRATOR_PASS'])"
   ]
  },
  {
   "cell_type": "code",
   "execution_count": 21,
   "id": "53d2a44f-4c9a-463a-961b-14674562c0d3",
   "metadata": {},
   "outputs": [],
   "source": [
    "# doc = conn.get_doc('Project', 'U00323_BAP.00')\n",
    "doc = conn.get_doc('Project', 'U00423_BAP.00')"
   ]
  },
  {
   "cell_type": "code",
   "execution_count": 22,
   "id": "77495508-56e0-4831-94ac-cfd400d1c1c7",
   "metadata": {},
   "outputs": [
    {
     "data": {
      "text/plain": [
       "{'name': 'U00423_BAP.00',\n",
       " 'owner': 'Administrator',\n",
       " 'creation': '2024-01-31 12:06:58.808259',\n",
       " 'modified': '2024-01-31 12:06:58.808259',\n",
       " 'modified_by': 'Administrator',\n",
       " 'docstatus': 0,\n",
       " 'idx': 0,\n",
       " 'naming_series': 'PROJ-.####',\n",
       " 'project_code': 'U004',\n",
       " 'project_year': '23',\n",
       " 'project_amd': '00',\n",
       " 'project_name': 'Cricket Sport Field',\n",
       " 'status': 'Opened',\n",
       " 'is_active': 'Yes',\n",
       " 'percent_complete_method': 'Task Progress',\n",
       " 'percent_complete': 0.0,\n",
       " 'project_cnt': 'U',\n",
       " 'project_development': 'BAY AREA PROJECT PRO',\n",
       " 'project_dev': 'BAP',\n",
       " 'project_template': 'Default',\n",
       " 'priority': 'Medium',\n",
       " 'customer': 'BAP',\n",
       " 'actual_time': 0.0,\n",
       " 'estimated_costing': 0.0,\n",
       " 'total_costing_amount': 0.0,\n",
       " 'total_expense_claim': 0.0,\n",
       " 'total_purchase_cost': 0.0,\n",
       " 'company': 'ACONS',\n",
       " 'total_sales_amount': 0.0,\n",
       " 'total_billable_amount': 0.0,\n",
       " 'total_billed_amount': 0.0,\n",
       " 'total_consumed_material_cost': 0.0,\n",
       " 'gross_margin': 0.0,\n",
       " 'per_gross_margin': 0.0,\n",
       " 'collect_progress': 0,\n",
       " 'frequency': 'Hourly',\n",
       " 'from_time': '12:06:57.963219',\n",
       " 'to_time': '12:06:57.963254',\n",
       " 'first_email': '12:06:57.963282',\n",
       " 'second_email': '12:06:57.963308',\n",
       " 'daily_time_to_send': '12:06:57.963335',\n",
       " 'day_to_send': 'Monday',\n",
       " 'weekly_time_to_send': '12:06:57.963361',\n",
       " 'doctype': 'Project',\n",
       " 'users': []}"
      ]
     },
     "execution_count": 22,
     "metadata": {},
     "output_type": "execute_result"
    }
   ],
   "source": [
    "doc"
   ]
  },
  {
   "cell_type": "code",
   "execution_count": null,
   "id": "f86a0179-4f9f-4517-aa07-2e15cb695b21",
   "metadata": {},
   "outputs": [],
   "source": [
    "conn.get_value"
   ]
  },
  {
   "cell_type": "code",
   "execution_count": 6,
   "id": "02039a50-9d8b-4715-ae15-985ace40d4ba",
   "metadata": {},
   "outputs": [],
   "source": [
    "col_A = '51009220--ug90caluol--TS-26-04-24-02190_HR-EMP-00027'"
   ]
  },
  {
   "cell_type": "code",
   "execution_count": 4,
   "id": "a7402026-7a91-4919-9b58-5bd1fea3149a",
   "metadata": {},
   "outputs": [],
   "source": [
    "def split_str_get_key(input_data, char_split=\"--\"):\n",
    "    if input_data == \"\" or input_data == None: return \"\", \"\", \"\"\n",
    "\n",
    "    results = input_data.split(char_split)\n",
    "    index_0 = results[0] if len(results) >= 1 else \"\"\n",
    "    index_1 = results[1] if len(results) >= 2 else \"\"\n",
    "    index_2 = results[2] if len(results) >= 3 else \"\"\n",
    "\n",
    "    return index_0, index_1, index_2"
   ]
  },
  {
   "cell_type": "code",
   "execution_count": 7,
   "id": "74f59bd7-2c81-4f43-87ef-2ed9276b4b14",
   "metadata": {},
   "outputs": [],
   "source": [
    "idx1, idx2, idx3 = split_str_get_key(col_A)"
   ]
  },
  {
   "cell_type": "code",
   "execution_count": 8,
   "id": "4bb38475-18fc-4acf-bbd7-daa063174206",
   "metadata": {},
   "outputs": [
    {
     "data": {
      "text/plain": [
       "'51009220'"
      ]
     },
     "execution_count": 8,
     "metadata": {},
     "output_type": "execute_result"
    }
   ],
   "source": [
    "idx1"
   ]
  },
  {
   "cell_type": "code",
   "execution_count": 9,
   "id": "6a409950-92e7-43c0-99c1-214f5a10d9a7",
   "metadata": {},
   "outputs": [
    {
     "data": {
      "text/plain": [
       "'ug90caluol'"
      ]
     },
     "execution_count": 9,
     "metadata": {},
     "output_type": "execute_result"
    }
   ],
   "source": [
    "idx2"
   ]
  },
  {
   "cell_type": "code",
   "execution_count": 10,
   "id": "8b20ede4-59b1-4975-85be-599c44b6d973",
   "metadata": {},
   "outputs": [
    {
     "data": {
      "text/plain": [
       "'TS-26-04-24-02190_HR-EMP-00027'"
      ]
     },
     "execution_count": 10,
     "metadata": {},
     "output_type": "execute_result"
    }
   ],
   "source": [
    "idx3"
   ]
  },
  {
   "cell_type": "code",
   "execution_count": 11,
   "id": "35112043-9648-458f-bf95-a7aa5ee5e782",
   "metadata": {},
   "outputs": [],
   "source": [
    "parent_task_id = idx2"
   ]
  },
  {
   "cell_type": "code",
   "execution_count": 12,
   "id": "1555fa1d-9741-4082-83e3-70631775876e",
   "metadata": {},
   "outputs": [],
   "source": [
    "time_sheet_id = idx3"
   ]
  },
  {
   "cell_type": "code",
   "execution_count": null,
   "id": "851fdff3-890f-4507-8d5b-a1e293ffc128",
   "metadata": {},
   "outputs": [],
   "source": []
  },
  {
   "cell_type": "code",
   "execution_count": null,
   "id": "5d96abb1-4999-4e62-bec4-b6da59038062",
   "metadata": {},
   "outputs": [],
   "source": [
    "parent_task = conn.get_value(\"Task\",\n",
    "        {\n",
    "            \"subject\": phase_name,\n",
    "            \"project\": project_code,\n",
    "            \"is_group\": 1,\n",
    "        }, [\"name\"])"
   ]
  },
  {
   "cell_type": "code",
   "execution_count": 13,
   "id": "7d108033-218e-4984-869f-795a5569b9ef",
   "metadata": {},
   "outputs": [],
   "source": [
    "parent_task_doc = conn.get_doc(\"Task\", parent_task_id)"
   ]
  },
  {
   "cell_type": "code",
   "execution_count": 14,
   "id": "646b9968-ea5b-4a99-84fa-0ef820c79d71",
   "metadata": {},
   "outputs": [
    {
     "data": {
      "text/plain": [
       "{'name': 'ug90caluol',\n",
       " 'owner': 'Administrator',\n",
       " 'creation': '2024-04-26 10:31:40.833712',\n",
       " 'modified': '2024-05-02 23:45:53.032912',\n",
       " 'modified_by': 'Administrator',\n",
       " 'docstatus': 0,\n",
       " 'idx': 0,\n",
       " 'task_number': '24',\n",
       " 'subject': 'Cập nhật cmt city #1',\n",
       " 'project': 'U00323_BAP.00',\n",
       " 'is_group': 0,\n",
       " 'is_template': 0,\n",
       " 'status': 'In Progress',\n",
       " 'priority': 'Medium',\n",
       " 'task_weight': 0.0,\n",
       " 'parent_task': 'a70a24c2ae',\n",
       " 'assigned_to': 'Huyền Bùi Thị Thanh',\n",
       " 'expected_time': 0.0,\n",
       " 'start': 0,\n",
       " 'progress': 50.0,\n",
       " 'duration': 0,\n",
       " 'is_milestone': 0,\n",
       " 'depends_on_tasks': '',\n",
       " 'actual_time': 0.0,\n",
       " 'total_costing_amount': 0.0,\n",
       " 'total_expense_claim': 0.0,\n",
       " 'total_billing_amount': 0.0,\n",
       " 'company': 'ACONS',\n",
       " 'lft': 78,\n",
       " 'rgt': 79,\n",
       " 'old_parent': 'a70a24c2ae',\n",
       " 'doctype': 'Task',\n",
       " 'depends_on': []}"
      ]
     },
     "execution_count": 14,
     "metadata": {},
     "output_type": "execute_result"
    }
   ],
   "source": [
    "parent_task_doc"
   ]
  },
  {
   "cell_type": "code",
   "execution_count": null,
   "id": "5bfe4f59-00e7-4e3e-9c7a-a4a70424bc87",
   "metadata": {},
   "outputs": [],
   "source": [
    "parent_task = conn.get_value(\"Task\", { \"subject\": phase_name, \"project\": project_code, \"is_group\": 1}, [\"name\"])"
   ]
  },
  {
   "cell_type": "code",
   "execution_count": null,
   "id": "fe987f14-01e7-49fa-bdb7-54d12e461976",
   "metadata": {},
   "outputs": [],
   "source": [
    "time_sheet_doc = frappe.get_doc(\"Timesheet\", time_sheet_id)"
   ]
  },
  {
   "cell_type": "code",
   "execution_count": 15,
   "id": "b73f5ba4-8075-43b3-9555-29f3930fced1",
   "metadata": {},
   "outputs": [],
   "source": [
    "time_sheet_doc = conn.get_doc(\"Timesheet\", time_sheet_id)"
   ]
  },
  {
   "cell_type": "code",
   "execution_count": 16,
   "id": "2eb605d6-9cc7-4d5c-93bd-d8a05a22d799",
   "metadata": {},
   "outputs": [
    {
     "data": {
      "text/plain": [
       "{'name': 'TS-26-04-24-02190_HR-EMP-00027',\n",
       " 'owner': 'Administrator',\n",
       " 'creation': '2024-04-26 10:31:43.184001',\n",
       " 'modified': '2024-05-02 23:45:57.156846',\n",
       " 'modified_by': 'Administrator',\n",
       " 'docstatus': 0,\n",
       " 'idx': 0,\n",
       " 'title': 'Huyền Bùi Thị Thanh',\n",
       " 'naming_series': 'TS-.YYYY.-',\n",
       " 'company': 'BAP',\n",
       " 'currency': 'VND',\n",
       " 'exchange_rate': 1.0,\n",
       " 'status': 'Draft',\n",
       " 'parent_project': 'U00323_BAP.00',\n",
       " 'employee': 'HR-EMP-00027',\n",
       " 'employee_name': 'Huyền Bùi Thị Thanh',\n",
       " 'start_date': '2024-04-20',\n",
       " 'end_date': '2024-04-23',\n",
       " 'total_hours': 14.0,\n",
       " 'total_billable_hours': 0.0,\n",
       " 'base_total_billable_amount': 0.0,\n",
       " 'base_total_billed_amount': 0.0,\n",
       " 'base_total_costing_amount': 0.0,\n",
       " 'total_billed_hours': 0.0,\n",
       " 'total_billable_amount': 0.0,\n",
       " 'total_billed_amount': 0.0,\n",
       " 'total_costing_amount': 0.0,\n",
       " 'per_billed': 0.0,\n",
       " 'doctype': 'Timesheet',\n",
       " 'time_logs': [{'name': 'b85jvhbjt5',\n",
       "   'owner': 'Administrator',\n",
       "   'creation': '2024-04-26 10:31:43.184001',\n",
       "   'modified': '2024-05-02 23:45:57.156846',\n",
       "   'modified_by': 'Administrator',\n",
       "   'docstatus': 0,\n",
       "   'idx': 1,\n",
       "   'activity_type': '2303',\n",
       "   'from_time': '2024-04-20',\n",
       "   'expected_hours': 0.0,\n",
       "   'to_time': '2024-04-20',\n",
       "   'hours': 4.0,\n",
       "   'completed': 0,\n",
       "   'project': 'U00323_BAP.00',\n",
       "   'project_name': '101 Pleasant Ridge',\n",
       "   'task': 'ug90caluol',\n",
       "   'is_billable': 0,\n",
       "   'billing_hours': 0.0,\n",
       "   'base_billing_rate': 0.0,\n",
       "   'base_billing_amount': 0.0,\n",
       "   'base_costing_rate': 0.0,\n",
       "   'base_costing_amount': 0.0,\n",
       "   'billing_rate': 0.0,\n",
       "   'billing_amount': 0.0,\n",
       "   'costing_rate': 0.0,\n",
       "   'costing_amount': 0.0,\n",
       "   'parent': 'TS-26-04-24-02190_HR-EMP-00027',\n",
       "   'parentfield': 'time_logs',\n",
       "   'parenttype': 'Timesheet',\n",
       "   'doctype': 'Timesheet Detail'},\n",
       "  {'name': 'b85jpsfqub',\n",
       "   'owner': 'Administrator',\n",
       "   'creation': '2024-04-26 10:31:43.184001',\n",
       "   'modified': '2024-05-02 23:45:57.156846',\n",
       "   'modified_by': 'Administrator',\n",
       "   'docstatus': 0,\n",
       "   'idx': 2,\n",
       "   'activity_type': '2303',\n",
       "   'from_time': '2024-04-22',\n",
       "   'expected_hours': 0.0,\n",
       "   'to_time': '2024-04-22',\n",
       "   'hours': 8.0,\n",
       "   'completed': 0,\n",
       "   'project': 'U00323_BAP.00',\n",
       "   'project_name': '101 Pleasant Ridge',\n",
       "   'task': 'ug90caluol',\n",
       "   'is_billable': 0,\n",
       "   'billing_hours': 0.0,\n",
       "   'base_billing_rate': 0.0,\n",
       "   'base_billing_amount': 0.0,\n",
       "   'base_costing_rate': 0.0,\n",
       "   'base_costing_amount': 0.0,\n",
       "   'billing_rate': 0.0,\n",
       "   'billing_amount': 0.0,\n",
       "   'costing_rate': 0.0,\n",
       "   'costing_amount': 0.0,\n",
       "   'parent': 'TS-26-04-24-02190_HR-EMP-00027',\n",
       "   'parentfield': 'time_logs',\n",
       "   'parenttype': 'Timesheet',\n",
       "   'doctype': 'Timesheet Detail'},\n",
       "  {'name': 'b85jf8k5ue',\n",
       "   'owner': 'Administrator',\n",
       "   'creation': '2024-04-26 10:31:43.184001',\n",
       "   'modified': '2024-05-02 23:45:57.156846',\n",
       "   'modified_by': 'Administrator',\n",
       "   'docstatus': 0,\n",
       "   'idx': 3,\n",
       "   'activity_type': '2303',\n",
       "   'from_time': '2024-04-23',\n",
       "   'expected_hours': 0.0,\n",
       "   'to_time': '2024-04-23',\n",
       "   'hours': 2.0,\n",
       "   'completed': 0,\n",
       "   'project': 'U00323_BAP.00',\n",
       "   'project_name': '101 Pleasant Ridge',\n",
       "   'task': 'ug90caluol',\n",
       "   'is_billable': 0,\n",
       "   'billing_hours': 0.0,\n",
       "   'base_billing_rate': 0.0,\n",
       "   'base_billing_amount': 0.0,\n",
       "   'base_costing_rate': 0.0,\n",
       "   'base_costing_amount': 0.0,\n",
       "   'billing_rate': 0.0,\n",
       "   'billing_amount': 0.0,\n",
       "   'costing_rate': 0.0,\n",
       "   'costing_amount': 0.0,\n",
       "   'parent': 'TS-26-04-24-02190_HR-EMP-00027',\n",
       "   'parentfield': 'time_logs',\n",
       "   'parenttype': 'Timesheet',\n",
       "   'doctype': 'Timesheet Detail'}]}"
      ]
     },
     "execution_count": 16,
     "metadata": {},
     "output_type": "execute_result"
    }
   ],
   "source": [
    "time_sheet_doc"
   ]
  },
  {
   "cell_type": "code",
   "execution_count": null,
   "id": "119f1646-9edc-4034-8460-323c265882c1",
   "metadata": {},
   "outputs": [],
   "source": []
  },
  {
   "cell_type": "code",
   "execution_count": null,
   "id": "45fe619c-64df-4ecd-b8c3-a62fd0d020b6",
   "metadata": {},
   "outputs": [],
   "source": []
  }
 ],
 "metadata": {
  "kernelspec": {
   "display_name": "Python 3 (ipykernel)",
   "language": "python",
   "name": "python3"
  },
  "language_info": {
   "codemirror_mode": {
    "name": "ipython",
    "version": 3
   },
   "file_extension": ".py",
   "mimetype": "text/x-python",
   "name": "python",
   "nbconvert_exporter": "python",
   "pygments_lexer": "ipython3",
   "version": "3.10.14"
  }
 },
 "nbformat": 4,
 "nbformat_minor": 5
}
